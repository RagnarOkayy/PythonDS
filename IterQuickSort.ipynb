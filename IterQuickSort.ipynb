{
 "cells": [
  {
   "cell_type": "code",
   "execution_count": 4,
   "metadata": {},
   "outputs": [],
   "source": [
    "def Partition(arr, low, high):\n",
    "    pivot = arr[high]\n",
    "    pIndex = low \n",
    "    \n",
    "    for i in range(low, high):\n",
    "        if arr[i] <= pivot:\n",
    "            arr[i], arr[pIndex] = arr[pIndex], arr[i]\n",
    "            pIndex = pIndex + 1\n",
    "    arr[pIndex], arr[high] = arr[high], arr[pIndex]\n",
    "    \n",
    "    return pIndex"
   ]
  },
  {
   "cell_type": "code",
   "execution_count": 13,
   "metadata": {},
   "outputs": [],
   "source": [
    "def QuickSort(arr, left, right):\n",
    "    if left < right:\n",
    "        pi = Partition(arr, left, right)\n",
    "        QuickSort(arr, left, pi-1)\n",
    "        QuickSort(arr, pi + 1, right)\n",
    "    \n",
    "    return arr"
   ]
  },
  {
   "cell_type": "code",
   "execution_count": 14,
   "metadata": {},
   "outputs": [
    {
     "data": {
      "text/plain": [
       "[1, 4, 5, 10, 12, 20, 30]"
      ]
     },
     "execution_count": 14,
     "metadata": {},
     "output_type": "execute_result"
    }
   ],
   "source": [
    "arr = [10,12,20,30,4,5,1]\n",
    "arr = QuickSort(arr, 0, len(arr) -1)\n",
    "arr"
   ]
  },
  {
   "cell_type": "code",
   "execution_count": 12,
   "metadata": {},
   "outputs": [
    {
     "data": {
      "text/plain": [
       "NoneType"
      ]
     },
     "execution_count": 12,
     "metadata": {},
     "output_type": "execute_result"
    }
   ],
   "source": [
    "type(arr)"
   ]
  },
  {
   "cell_type": "code",
   "execution_count": null,
   "metadata": {},
   "outputs": [],
   "source": []
  }
 ],
 "metadata": {
  "kernelspec": {
   "display_name": "Python 3.10.5 ('.venv': venv)",
   "language": "python",
   "name": "python3"
  },
  "language_info": {
   "codemirror_mode": {
    "name": "ipython",
    "version": 3
   },
   "file_extension": ".py",
   "mimetype": "text/x-python",
   "name": "python",
   "nbconvert_exporter": "python",
   "pygments_lexer": "ipython3",
   "version": "3.10.5"
  },
  "orig_nbformat": 4,
  "vscode": {
   "interpreter": {
    "hash": "f48bd461ff6e03528d308f81209d8d48bdf9b0b44fba5e6e4afed6be6878e245"
   }
  }
 },
 "nbformat": 4,
 "nbformat_minor": 2
}
