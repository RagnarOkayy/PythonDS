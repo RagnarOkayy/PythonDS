{
 "cells": [
  {
   "cell_type": "code",
   "execution_count": 7,
   "metadata": {},
   "outputs": [],
   "source": [
    "def selectionSort(arr):\n",
    "    for i in range(len(arr) - 1):\n",
    "        min_id = i\n",
    "        for j in range(i+1, len(arr)):\n",
    "            if arr[min_id] > arr[j]:\n",
    "                min_id = j \n",
    "        \n",
    "        arr[i], arr[min_id] = arr[min_id], arr[i]"
   ]
  },
  {
   "cell_type": "code",
   "execution_count": 8,
   "metadata": {},
   "outputs": [
    {
     "data": {
      "text/plain": [
       "[11, 12, 22, 25, 64]"
      ]
     },
     "execution_count": 8,
     "metadata": {},
     "output_type": "execute_result"
    }
   ],
   "source": [
    "arr = [64,25,12,22,11]\n",
    "selectionSort(arr)\n",
    "arr"
   ]
  }
 ],
 "metadata": {
  "kernelspec": {
   "display_name": "Python 3.10.5 ('.venv': venv)",
   "language": "python",
   "name": "python3"
  },
  "language_info": {
   "codemirror_mode": {
    "name": "ipython",
    "version": 3
   },
   "file_extension": ".py",
   "mimetype": "text/x-python",
   "name": "python",
   "nbconvert_exporter": "python",
   "pygments_lexer": "ipython3",
   "version": "3.10.5"
  },
  "orig_nbformat": 4,
  "vscode": {
   "interpreter": {
    "hash": "f48bd461ff6e03528d308f81209d8d48bdf9b0b44fba5e6e4afed6be6878e245"
   }
  }
 },
 "nbformat": 4,
 "nbformat_minor": 2
}
