{
 "cells": [
  {
   "cell_type": "code",
   "execution_count": 18,
   "metadata": {},
   "outputs": [],
   "source": [
    "class node:\n",
    "    def __init__(self, value = None):\n",
    "        self.left_child = None\n",
    "        self.right_child = None \n",
    "        self.value = value      \n",
    "        "
   ]
  },
  {
   "cell_type": "code",
   "execution_count": 19,
   "metadata": {},
   "outputs": [],
   "source": [
    "class binary_search_tree:\n",
    "    def __init__(self):\n",
    "        self.root = None\n",
    "        \n",
    "    def insert(self, value):\n",
    "        if self.root == None:\n",
    "            self.root = node(value)\n",
    "        else: \n",
    "            self._insert(value, self.root)\n",
    "    \n",
    "    def _insert(self, value, curr_node):\n",
    "        if curr_node.value > value:\n",
    "            if curr_node.left_child == None:\n",
    "                curr_node.left_child = node(value)\n",
    "            else : \n",
    "                self._insert(value, curr_node.left_child)\n",
    "                \n",
    "        elif curr_node.value < value:\n",
    "            if curr_node.right_child == None:\n",
    "                curr_node.right_child = node(value)\n",
    "            else:\n",
    "                self._insert(value, curr_node.right_child)\n",
    "        \n",
    "        else:\n",
    "            print(\"This value is already in the table\")\n",
    "            \n",
    "    def print_tree(self):\n",
    "        if self.root != None:\n",
    "            self._print_tree(self.root)\n",
    "            \n",
    "    def _print_tree(self, curr_node):\n",
    "        if curr_node != None:\n",
    "            self._print_tree(curr_node.left_child)\n",
    "            print(curr_node.value)\n",
    "            self._print_tree(curr_node.right_child)\n",
    "     \n",
    "    def height(self):\n",
    "        if self.root != None:\n",
    "            return self._height(self.root, 0)\n",
    "        else:\n",
    "            return 0\n",
    "        \n",
    "    def _height(self, cur_node, cur_height):\n",
    "        if cur_node == None:\n",
    "            return cur_height \n",
    "        left_height = self._height(cur_node.left_child, cur_height + 1)\n",
    "        right_height = self._height(cur_node.right_child, cur_height + 1)\n",
    "        return max(left_height, right_height)\n",
    "        \n",
    "      \n",
    "    def search(self, value):\n",
    "        if self.root != None:\n",
    "            return self._search(value, self.root)\n",
    "        else:\n",
    "            return False\n",
    "    \n",
    "    def _search(self, value, cur_node):\n",
    "        if cur_node.value == value:\n",
    "            return True\n",
    "        elif value < cur_node.value and cur_node.left_child != None:\n",
    "            return self._search(value, cur_node.left_child)\n",
    "        elif value > cur_node.value and cur_node.right_child != None:\n",
    "            return self._search(value, cur_node.right_child)\n",
    "        else:\n",
    "            return False\n",
    "        \n",
    "    def _inverse(self, cur_node):\n",
    "        if cur_node is None:\n",
    "            return \n",
    "        \n",
    "        cur_node.left_child, cur_node.right_child = self._inverse(cur_node.right_child), self._inverse(cur_node.left_child)\n",
    "        return\n",
    "        \n",
    "    def inverse(self):\n",
    "        if self.root is None:\n",
    "            print(\"There is nothing to inverse\")\n",
    "            return \n",
    "        else:\n",
    "            self._inverse(self.root)"
   ]
  },
  {
   "cell_type": "code",
   "execution_count": 20,
   "metadata": {},
   "outputs": [],
   "source": [
    "def fill_tree(tree, countNum = 100, max_int = 1000):\n",
    "    from random import randint\n",
    "    for _ in range(countNum):\n",
    "        holder = randint(0, max_int)\n",
    "        tree.insert(holder)\n",
    "        \n",
    "    return tree"
   ]
  },
  {
   "cell_type": "code",
   "execution_count": 21,
   "metadata": {},
   "outputs": [],
   "source": [
    "tree = binary_search_tree()\n",
    "tree.insert(3)\n",
    "tree.insert(1)\n",
    "tree.insert(2)\n",
    "tree.insert(4)\n"
   ]
  },
  {
   "cell_type": "code",
   "execution_count": 22,
   "metadata": {},
   "outputs": [
    {
     "name": "stdout",
     "output_type": "stream",
     "text": [
      "1\n",
      "2\n",
      "3\n",
      "4\n"
     ]
    }
   ],
   "source": [
    "tree.print_tree()"
   ]
  },
  {
   "cell_type": "code",
   "execution_count": 23,
   "metadata": {},
   "outputs": [
    {
     "data": {
      "text/plain": [
       "3"
      ]
     },
     "execution_count": 23,
     "metadata": {},
     "output_type": "execute_result"
    }
   ],
   "source": [
    "tree.height()"
   ]
  },
  {
   "cell_type": "code",
   "execution_count": 24,
   "metadata": {},
   "outputs": [
    {
     "data": {
      "text/plain": [
       "False"
      ]
     },
     "execution_count": 24,
     "metadata": {},
     "output_type": "execute_result"
    }
   ],
   "source": [
    "tree.search(10)"
   ]
  },
  {
   "cell_type": "code",
   "execution_count": 25,
   "metadata": {},
   "outputs": [],
   "source": [
    "tree.inverse()"
   ]
  },
  {
   "cell_type": "code",
   "execution_count": 26,
   "metadata": {},
   "outputs": [
    {
     "name": "stdout",
     "output_type": "stream",
     "text": [
      "3\n"
     ]
    }
   ],
   "source": [
    "tree.print_tree()"
   ]
  },
  {
   "cell_type": "code",
   "execution_count": null,
   "metadata": {},
   "outputs": [],
   "source": []
  }
 ],
 "metadata": {
  "kernelspec": {
   "display_name": "Python 3.10.5 ('.venv': venv)",
   "language": "python",
   "name": "python3"
  },
  "language_info": {
   "codemirror_mode": {
    "name": "ipython",
    "version": 3
   },
   "file_extension": ".py",
   "mimetype": "text/x-python",
   "name": "python",
   "nbconvert_exporter": "python",
   "pygments_lexer": "ipython3",
   "version": "3.10.5"
  },
  "orig_nbformat": 4,
  "vscode": {
   "interpreter": {
    "hash": "f48bd461ff6e03528d308f81209d8d48bdf9b0b44fba5e6e4afed6be6878e245"
   }
  }
 },
 "nbformat": 4,
 "nbformat_minor": 2
}
