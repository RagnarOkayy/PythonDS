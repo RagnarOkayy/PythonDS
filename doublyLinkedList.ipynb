{
 "cells": [
  {
   "cell_type": "code",
   "execution_count": null,
   "metadata": {},
   "outputs": [],
   "source": []
  }
 ],
 "metadata": {
  "kernelspec": {
   "display_name": "Python 3.10.5 ('.venv': venv)",
   "language": "python",
   "name": "python3"
  },
  "language_info": {
   "name": "python",
   "version": "3.10.5"
  },
  "orig_nbformat": 4,
  "vscode": {
   "interpreter": {
    "hash": "f48bd461ff6e03528d308f81209d8d48bdf9b0b44fba5e6e4afed6be6878e245"
   }
  }
 },
 "nbformat": 4,
 "nbformat_minor": 2
}
